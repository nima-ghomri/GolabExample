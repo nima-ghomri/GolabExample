{
  "nbformat": 4,
  "nbformat_minor": 0,
  "metadata": {
    "colab": {
      "provenance": [],
      "authorship_tag": "ABX9TyNR+n5NPb4d0i3bL480TED4",
      "include_colab_link": true
    },
    "kernelspec": {
      "name": "python3",
      "display_name": "Python 3"
    },
    "language_info": {
      "name": "python"
    }
  },
  "cells": [
    {
      "cell_type": "markdown",
      "metadata": {
        "id": "view-in-github",
        "colab_type": "text"
      },
      "source": [
        "<a href=\"https://colab.research.google.com/github/nima-ghomri/GolabExample/blob/main/Orange.ipynb\" target=\"_parent\"><img src=\"https://colab.research.google.com/assets/colab-badge.svg\" alt=\"Open In Colab\"/></a>"
      ]
    },
    {
      "cell_type": "code",
      "execution_count": null,
      "metadata": {
        "id": "yfEzNMVEI4KJ"
      },
      "outputs": [],
      "source": [
        "//test"
      ]
    },
    {
      "cell_type": "markdown",
      "source": [
        "Another test"
      ],
      "metadata": {
        "id": "6N4fj-ApKZ_D"
      }
    }
  ]
}